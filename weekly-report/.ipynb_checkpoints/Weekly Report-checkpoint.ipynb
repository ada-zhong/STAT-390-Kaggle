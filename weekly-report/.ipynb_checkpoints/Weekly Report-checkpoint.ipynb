{
 "cells": [
  {
   "cell_type": "markdown",
   "id": "9602531b",
   "metadata": {},
   "source": [
    "## Weekly Report 2\n",
    "### 4/21\n",
    "Progress:\n",
    "- Uploaded data\n",
    "\n",
    "Problem:\n",
    "- Doing EDA for this simulatenously with MCMF dataset\n",
    "\n",
    "Plan:\n",
    "- Start EDA if time, but Kaggle is not priority over MCMF EDA"
   ]
  },
  {
   "cell_type": "markdown",
   "id": "1c95feb4",
   "metadata": {},
   "source": [
    "## Weekly Report 1\n",
    "### 4/14\n",
    "Progress:\n",
    "- Have not started\n",
    "\n",
    "Problem:\n",
    "- How to handle doing this both in STAT 303-3 and in 390\n",
    "- It is getting introduced at end of month in 303-3\n",
    "\n",
    "Plan:\n",
    "- Upload data\n",
    "- Start EDA if time"
   ]
  }
 ],
 "metadata": {
  "kernelspec": {
   "display_name": "Python 3 (ipykernel)",
   "language": "python",
   "name": "python3"
  },
  "language_info": {
   "codemirror_mode": {
    "name": "ipython",
    "version": 3
   },
   "file_extension": ".py",
   "mimetype": "text/x-python",
   "name": "python",
   "nbconvert_exporter": "python",
   "pygments_lexer": "ipython3",
   "version": "3.9.12"
  }
 },
 "nbformat": 4,
 "nbformat_minor": 5
}
