{
 "cells": [
  {
   "cell_type": "markdown",
   "id": "9602531b",
   "metadata": {},
   "source": [
    "## Weekly Report 1\n",
    "### 4/14\n",
    "Progress:\n",
    "- Have not started\n",
    "\n",
    "Problem:\n",
    "- How to handle doing this both in STAT 303-3 and in 390\n",
    "- It is getting introduced at end of month in 303-3\n",
    "\n",
    "Plan:\n",
    "- Upload data\n",
    "- Start EDA if time"
   ]
  }
 ],
 "metadata": {
  "kernelspec": {
   "display_name": "Python 3 (ipykernel)",
   "language": "python",
   "name": "python3"
  },
  "language_info": {
   "codemirror_mode": {
    "name": "ipython",
    "version": 3
   },
   "file_extension": ".py",
   "mimetype": "text/x-python",
   "name": "python",
   "nbconvert_exporter": "python",
   "pygments_lexer": "ipython3",
   "version": "3.9.12"
  }
 },
 "nbformat": 4,
 "nbformat_minor": 5
}
